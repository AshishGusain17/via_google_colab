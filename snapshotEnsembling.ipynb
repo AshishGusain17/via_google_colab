{
  "nbformat": 4,
  "nbformat_minor": 0,
  "metadata": {
    "colab": {
      "name": "snapshotEnsembling.ipynb",
      "provenance": [],
      "authorship_tag": "ABX9TyMf2oSt+k9ZsygQ2YWVz69X",
      "include_colab_link": true
    },
    "kernelspec": {
      "name": "python3",
      "display_name": "Python 3"
    },
    "accelerator": "GPU"
  },
  "cells": [
    {
      "cell_type": "markdown",
      "metadata": {
        "id": "view-in-github",
        "colab_type": "text"
      },
      "source": [
        "<a href=\"https://colab.research.google.com/github/AshishGusain17/via_google_colab/blob/master/snapshotEnsembling.ipynb\" target=\"_parent\"><img src=\"https://colab.research.google.com/assets/colab-badge.svg\" alt=\"Open In Colab\"/></a>"
      ]
    },
    {
      "cell_type": "code",
      "metadata": {
        "id": "lud0m9zTkmru",
        "colab_type": "code",
        "colab": {
          "base_uri": "https://localhost:8080/",
          "height": 34
        },
        "outputId": "92ed631c-8ee5-4a81-dea4-4025bb6b9a83"
      },
      "source": [
        "# example of saving models for a snapshot ensemble\n",
        "from sklearn.datasets import make_blobs\n",
        "from keras.utils import to_categorical\n",
        "from keras.models import Sequential\n",
        "from keras.layers import Dense\n",
        "from keras.callbacks import Callback\n",
        "from keras.optimizers import SGD\n",
        "from keras import backend\n",
        "from math import pi\n",
        "from math import cos\n",
        "from math import floor\n",
        "\n",
        "\n",
        "\n",
        "\n",
        "\n",
        "from sklearn.preprocessing import LabelBinarizer\n",
        "from sklearn.metrics import classification_report\n",
        "from tensorflow.keras.preprocessing.image import ImageDataGenerator\n",
        "from tensorflow.keras.optimizers import SGD\n",
        "from tensorflow.keras.datasets import cifar10\n",
        "import matplotlib.pyplot as plt\n",
        "import numpy as np\n",
        "\n",
        "\n",
        "import matplotlib\n",
        "matplotlib.use(\"Agg\")"
      ],
      "execution_count": 1,
      "outputs": [
        {
          "output_type": "stream",
          "text": [
            "Using TensorFlow backend.\n"
          ],
          "name": "stderr"
        }
      ]
    },
    {
      "cell_type": "code",
      "metadata": {
        "id": "m2N5JXj8VHVg",
        "colab_type": "code",
        "colab": {}
      },
      "source": [
        "# snapshot ensemble with custom learning rate schedule\n",
        "class SnapshotEnsemble(Callback):\n",
        "\t# constructor\n",
        "\tdef __init__(self, n_epochs, n_cycles, lrate_max, verbose=0):\n",
        "\t\tself.epochs = n_epochs\n",
        "\t\tself.cycles = n_cycles\n",
        "\t\tself.lr_max = lrate_max\n",
        "\t\tself.lrates = list()\n",
        "\n",
        "\t# calculate learning rate for epoch\n",
        "\tdef cosine_annealing(self, epoch, n_epochs, n_cycles, lrate_max):\n",
        "\t\tepochs_per_cycle = floor(n_epochs/n_cycles)\n",
        "\t\tcos_inner = (pi * (epoch % epochs_per_cycle)) / (epochs_per_cycle)\n",
        "\t\treturn lrate_max/2 * (cos(cos_inner) + 1)\n",
        "\n",
        "\t# calculate and set learning rate at the start of the epoch\n",
        "\tdef on_epoch_begin(self, epoch, logs={}):\n",
        "\t\t# calculate learning rate\n",
        "\t\tlr = self.cosine_annealing(epoch, self.epochs, self.cycles, self.lr_max)\n",
        "\t\t# set learning rate\n",
        "\t\tbackend.set_value(self.model.optimizer.lr, lr)\n",
        "\t\t# log value\n",
        "\t\tself.lrates.append(lr)\n",
        "\n",
        "\t# save models at the end of each cycle\n",
        "\tdef on_epoch_end(self, epoch, logs={}):\n",
        "\t\t# check if we can save model\n",
        "\t\tepochs_per_cycle = floor(self.epochs / self.cycles)\n",
        "\t\tif epoch != 0 and (epoch + 1) % epochs_per_cycle == 0:\n",
        "\t\t\t# save model to file\n",
        "\t\t\tfilename = \"snapshot_model_%d.h5\" % int((epoch + 1) / epochs_per_cycle)\n",
        "\t\t\tself.model.save(filename)\n",
        "\t\t\tprint('>saved snapshot %s, epoch %d' % (filename, epoch))\n"
      ],
      "execution_count": 2,
      "outputs": []
    },
    {
      "cell_type": "code",
      "metadata": {
        "id": "BV8pArDvVJsu",
        "colab_type": "code",
        "colab": {
          "base_uri": "https://localhost:8080/",
          "height": 104
        },
        "outputId": "51a0ec9b-5678-4ead-8f9c-e6cf9a54e36e"
      },
      "source": [
        "\n",
        "# load the training and testing data, converting the images from integers to floats\n",
        "print(\"[INFO] loading CIFAR-10 data...\")\n",
        "((trainX, trainY), (testX, testY)) = cifar10.load_data()\n",
        "trainX = trainX.astype(\"float\")\n",
        "testX = testX.astype(\"float\")\n",
        "print(trainX.shape , testX.shape)\n",
        "\n",
        "# apply mean subtraction to the data\n",
        "mean = np.mean(trainX, axis=0)\n",
        "trainX -= mean\n",
        "testX -= mean\n",
        "\n",
        "# convert the labels from integers to vectors\n",
        "lb = LabelBinarizer()\n",
        "trainY = lb.fit_transform(trainY)\n",
        "testY = lb.transform(testY)\n",
        "print(trainY.shape , testY.shape)\n",
        "\n",
        "# construct the image generator for data augmentation\n",
        "aug = ImageDataGenerator(width_shift_range=0.1,\n",
        "\theight_shift_range=0.1, horizontal_flip=True,\n",
        "\tfill_mode=\"nearest\")\n",
        "\n"
      ],
      "execution_count": 3,
      "outputs": [
        {
          "output_type": "stream",
          "text": [
            "[INFO] loading CIFAR-10 data...\n",
            "Downloading data from https://www.cs.toronto.edu/~kriz/cifar-10-python.tar.gz\n",
            "170500096/170498071 [==============================] - 6s 0us/step\n",
            "(50000, 32, 32, 3) (10000, 32, 32, 3)\n",
            "(50000, 10) (10000, 10)\n"
          ],
          "name": "stdout"
        }
      ]
    },
    {
      "cell_type": "code",
      "metadata": {
        "id": "7hulsKSDObGb",
        "colab_type": "code",
        "colab": {
          "base_uri": "https://localhost:8080/",
          "height": 294
        },
        "outputId": "eb7942f2-6874-4a90-93a2-cfd9799804d9"
      },
      "source": [
        "ct = 0\n",
        "import keras\n",
        "\n",
        "\n",
        "\n",
        "m1 = keras.applications.ResNet50(include_top=False,\n",
        "                  input_shape = (32,32,3),\n",
        "                  weights = 'imagenet')\n",
        "\n",
        "model = keras.models.Sequential() \n",
        "model.add(m1)\n",
        "\n",
        "for layer in model.layers:\n",
        "  ct=ct+1\n",
        "\n",
        "for layer in model.layers:\n",
        "  if ct>10:\n",
        "    layer.trainable = False\n",
        "  else:\n",
        "    layer.trainable = True\n",
        "  ct=ct-1\n",
        "\n",
        "\n",
        "model.add(keras.layers.Flatten())\n",
        "\n",
        "model.add(keras.layers.Dense(10, activation='softmax'))\n",
        "\n",
        "model.summary()\n"
      ],
      "execution_count": 7,
      "outputs": [
        {
          "output_type": "stream",
          "text": [
            "/usr/local/lib/python3.6/dist-packages/keras_applications/resnet50.py:265: UserWarning: The output shape of `ResNet50(include_top=False)` has been changed since Keras 2.2.0.\n",
            "  warnings.warn('The output shape of `ResNet50(include_top=False)` '\n"
          ],
          "name": "stderr"
        },
        {
          "output_type": "stream",
          "text": [
            "Model: \"sequential_2\"\n",
            "_________________________________________________________________\n",
            "Layer (type)                 Output Shape              Param #   \n",
            "=================================================================\n",
            "resnet50 (Model)             (None, 1, 1, 2048)        23587712  \n",
            "_________________________________________________________________\n",
            "flatten_2 (Flatten)          (None, 2048)              0         \n",
            "_________________________________________________________________\n",
            "dense_2 (Dense)              (None, 10)                20490     \n",
            "=================================================================\n",
            "Total params: 23,608,202\n",
            "Trainable params: 23,555,082\n",
            "Non-trainable params: 53,120\n",
            "_________________________________________________________________\n"
          ],
          "name": "stdout"
        }
      ]
    },
    {
      "cell_type": "code",
      "metadata": {
        "id": "_d-ioXe-Dmn_",
        "colab_type": "code",
        "colab": {}
      },
      "source": [
        "model.compile(loss=\"categorical_crossentropy\", \n",
        "              optimizer='adam',\n",
        "\t          metrics=[\"accuracy\"])\n",
        "\n",
        "\n",
        "\n"
      ],
      "execution_count": 8,
      "outputs": []
    },
    {
      "cell_type": "code",
      "metadata": {
        "id": "N_hcglI6U7gK",
        "colab_type": "code",
        "colab": {
          "base_uri": "https://localhost:8080/",
          "height": 450
        },
        "outputId": "1ba2e901-d11f-4c14-f324-ec54ad3f963a"
      },
      "source": [
        "steps_per_epoch = 512         # number of steps in each epoch\n",
        "n_epochs = 10                 # number of epochs to be trained\n",
        "n_cycles = 5                  # number of models to be generated\n",
        "\n",
        "\n",
        "snapShotEN = SnapshotEnsemble(n_epochs, n_cycles, 0.01)\n",
        "\n",
        "H = model.fit(\n",
        "\tx=aug.flow(trainX, trainY, 32),\n",
        "\tvalidation_data=(testX, testY),\n",
        "\tsteps_per_epoch=steps_per_epoch,\n",
        "\tepochs=n_epochs,\n",
        "\tcallbacks=[snapShotEN],\n",
        "\tverbose=1)\n",
        "\n"
      ],
      "execution_count": 9,
      "outputs": [
        {
          "output_type": "stream",
          "text": [
            "Epoch 1/10\n",
            "512/512 [==============================] - 147s 288ms/step - loss: 4.4811 - accuracy: 0.1478 - val_loss: 3.9483 - val_accuracy: 0.1789\n",
            "Epoch 2/10\n",
            "512/512 [==============================] - 125s 244ms/step - loss: 2.2107 - accuracy: 0.1974 - val_loss: 2.1224 - val_accuracy: 0.1998\n",
            ">saved snapshot snapshot_model_1.h5, epoch 1\n",
            "Epoch 3/10\n",
            "512/512 [==============================] - 125s 244ms/step - loss: 2.1049 - accuracy: 0.2101 - val_loss: 2.4082 - val_accuracy: 0.2143\n",
            "Epoch 4/10\n",
            "512/512 [==============================] - 124s 241ms/step - loss: 1.8841 - accuracy: 0.2782 - val_loss: 1.7658 - val_accuracy: 0.3223\n",
            ">saved snapshot snapshot_model_2.h5, epoch 3\n",
            "Epoch 5/10\n",
            "512/512 [==============================] - 125s 245ms/step - loss: 1.8150 - accuracy: 0.3154 - val_loss: 1.8171 - val_accuracy: 0.3392\n",
            "Epoch 6/10\n",
            "512/512 [==============================] - 125s 245ms/step - loss: 1.6775 - accuracy: 0.3665 - val_loss: 1.5431 - val_accuracy: 0.4204\n",
            ">saved snapshot snapshot_model_3.h5, epoch 5\n",
            "Epoch 7/10\n",
            "512/512 [==============================] - 127s 248ms/step - loss: 1.6740 - accuracy: 0.3730 - val_loss: 2.1512 - val_accuracy: 0.3507\n",
            "Epoch 8/10\n",
            "512/512 [==============================] - 126s 246ms/step - loss: 1.5612 - accuracy: 0.4231 - val_loss: 1.4423 - val_accuracy: 0.4707\n",
            ">saved snapshot snapshot_model_4.h5, epoch 7\n",
            "Epoch 9/10\n",
            "512/512 [==============================] - 127s 247ms/step - loss: 1.5693 - accuracy: 0.4280 - val_loss: 3.0585 - val_accuracy: 0.3368\n",
            "Epoch 10/10\n",
            "512/512 [==============================] - 122s 238ms/step - loss: 1.4262 - accuracy: 0.4880 - val_loss: 1.3326 - val_accuracy: 0.5156\n",
            ">saved snapshot snapshot_model_5.h5, epoch 9\n"
          ],
          "name": "stdout"
        }
      ]
    },
    {
      "cell_type": "code",
      "metadata": {
        "id": "4lIxvecOe-r0",
        "colab_type": "code",
        "colab": {
          "base_uri": "https://localhost:8080/",
          "height": 52
        },
        "outputId": "7b189cc2-b02d-4a3c-e60d-e57bcf7a4043"
      },
      "source": [
        "new_model5 = keras.models.load_model(\"/content/snapshot_model_5.h5\")\n",
        "new_model5.evaluate(testX,testY)"
      ],
      "execution_count": 12,
      "outputs": [
        {
          "output_type": "stream",
          "text": [
            "10000/10000 [==============================] - 12s 1ms/step\n"
          ],
          "name": "stdout"
        },
        {
          "output_type": "execute_result",
          "data": {
            "text/plain": [
              "[1.3325670169830321, 0.5156000256538391]"
            ]
          },
          "metadata": {
            "tags": []
          },
          "execution_count": 12
        }
      ]
    },
    {
      "cell_type": "code",
      "metadata": {
        "id": "zxIq-MiMfVy0",
        "colab_type": "code",
        "colab": {
          "base_uri": "https://localhost:8080/",
          "height": 52
        },
        "outputId": "248c4e30-5ff3-41c6-efc9-ead83685a56f"
      },
      "source": [
        "new_model3 = keras.models.load_model(\"/content/snapshot_model_3.h5\")\n",
        "new_model3.evaluate(testX,testY)"
      ],
      "execution_count": 13,
      "outputs": [
        {
          "output_type": "stream",
          "text": [
            "10000/10000 [==============================] - 12s 1ms/step\n"
          ],
          "name": "stdout"
        },
        {
          "output_type": "execute_result",
          "data": {
            "text/plain": [
              "[1.5431362684249879, 0.4203999936580658]"
            ]
          },
          "metadata": {
            "tags": []
          },
          "execution_count": 13
        }
      ]
    },
    {
      "cell_type": "code",
      "metadata": {
        "id": "6rkJQYKdPTFD",
        "colab_type": "code",
        "colab": {}
      },
      "source": [
        ""
      ],
      "execution_count": null,
      "outputs": []
    },
    {
      "cell_type": "code",
      "metadata": {
        "id": "96J4PM8MPTHZ",
        "colab_type": "code",
        "colab": {}
      },
      "source": [
        ""
      ],
      "execution_count": null,
      "outputs": []
    },
    {
      "cell_type": "code",
      "metadata": {
        "id": "vjyi3MVzPTZH",
        "colab_type": "code",
        "colab": {}
      },
      "source": [
        ""
      ],
      "execution_count": null,
      "outputs": []
    },
    {
      "cell_type": "code",
      "metadata": {
        "id": "DXXS2bmgPTP-",
        "colab_type": "code",
        "colab": {}
      },
      "source": [
        ""
      ],
      "execution_count": null,
      "outputs": []
    }
  ]
}