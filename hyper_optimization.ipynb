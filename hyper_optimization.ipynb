{
  "nbformat": 4,
  "nbformat_minor": 0,
  "metadata": {
    "kernelspec": {
      "name": "python3",
      "display_name": "Python 3"
    },
    "language_info": {
      "codemirror_mode": {
        "name": "ipython",
        "version": 3
      },
      "file_extension": ".py",
      "mimetype": "text/x-python",
      "name": "python",
      "nbconvert_exporter": "python",
      "pygments_lexer": "ipython3",
      "version": "3.7.3"
    },
    "colab": {
      "name": "Copy of chess_players.ipynb",
      "provenance": [],
      "collapsed_sections": [],
      "machine_shape": "hm",
      "include_colab_link": true
    }
  },
  "cells": [
    {
      "cell_type": "markdown",
      "metadata": {
        "id": "view-in-github",
        "colab_type": "text"
      },
      "source": [
        "<a href=\"https://colab.research.google.com/github/AshishGusain17/via_google_colab/blob/master/hyper_optimization.ipynb\" target=\"_parent\"><img src=\"https://colab.research.google.com/assets/colab-badge.svg\" alt=\"Open In Colab\"/></a>"
      ]
    },
    {
      "cell_type": "code",
      "metadata": {
        "id": "T_zx4hOGaqBE",
        "colab_type": "code",
        "colab": {}
      },
      "source": [
        "import pandas as pd\n",
        "import numpy as np\n",
        "from sklearn import ensemble\n",
        "from sklearn import metrics\n",
        "from sklearn.model_selection import GridSearchCV,RandomizedSearchCV"
      ],
      "execution_count": 44,
      "outputs": []
    },
    {
      "cell_type": "code",
      "metadata": {
        "id": "V0OVRHcjdqaT",
        "colab_type": "code",
        "colab": {
          "base_uri": "https://localhost:8080/",
          "height": 242
        },
        "outputId": "a7752d40-b1c3-488d-aec0-b589e10ab731"
      },
      "source": [
        "df = pd.read_csv(\"/content/train.csv\")\n",
        "\n",
        "# to drop \"prive_range\" from colum name price_range\n",
        "# X = df.drop(\"price_range\" , axis=1)\n",
        "\n",
        "# convert into numpy array\n",
        "X = df.drop(\"price_range\" , axis=1).values\n",
        "X"
      ],
      "execution_count": 34,
      "outputs": [
        {
          "output_type": "execute_result",
          "data": {
            "text/plain": [
              "array([[8.420e+02, 0.000e+00, 2.200e+00, ..., 0.000e+00, 0.000e+00,\n",
              "        1.000e+00],\n",
              "       [1.021e+03, 1.000e+00, 5.000e-01, ..., 1.000e+00, 1.000e+00,\n",
              "        0.000e+00],\n",
              "       [5.630e+02, 1.000e+00, 5.000e-01, ..., 1.000e+00, 1.000e+00,\n",
              "        0.000e+00],\n",
              "       ...,\n",
              "       [1.911e+03, 0.000e+00, 9.000e-01, ..., 1.000e+00, 1.000e+00,\n",
              "        0.000e+00],\n",
              "       [1.512e+03, 0.000e+00, 9.000e-01, ..., 1.000e+00, 1.000e+00,\n",
              "        1.000e+00],\n",
              "       [5.100e+02, 1.000e+00, 2.000e+00, ..., 1.000e+00, 1.000e+00,\n",
              "        1.000e+00]])"
            ]
          },
          "metadata": {
            "tags": []
          },
          "execution_count": 34
        }
      ]
    },
    {
      "cell_type": "code",
      "metadata": {
        "id": "aPDE2vDDe2Zo",
        "colab_type": "code",
        "colab": {
          "base_uri": "https://localhost:8080/",
          "height": 34
        },
        "outputId": "62150da2-e98f-4ec9-879a-9a8ffdc1fbcb"
      },
      "source": [
        "Y = df.price_range.values\n",
        "Y"
      ],
      "execution_count": 35,
      "outputs": [
        {
          "output_type": "execute_result",
          "data": {
            "text/plain": [
              "array([1, 2, 2, ..., 3, 0, 3])"
            ]
          },
          "metadata": {
            "tags": []
          },
          "execution_count": 35
        }
      ]
    },
    {
      "cell_type": "code",
      "metadata": {
        "id": "gUZWKuVAcSoC",
        "colab_type": "code",
        "colab": {}
      },
      "source": [
        "classifier = ensemble.RandomForestClassifier(n_jobs = -1)\n",
        "param_grid = {\n",
        "    \"n_estimators\" : [100,200],\n",
        "    \"max_depth\" : [1,3,5],\n",
        "    \"criterion\" : [\"gini\" , \"entropy\"]\n",
        "}\n"
      ],
      "execution_count": 36,
      "outputs": []
    },
    {
      "cell_type": "code",
      "metadata": {
        "id": "QwqRcfdNdpyj",
        "colab_type": "code",
        "colab": {
          "base_uri": "https://localhost:8080/",
          "height": 1000
        },
        "outputId": "6bca1c91-6fa6-4de8-ae70-3135ccbbe48d"
      },
      "source": [
        "model = GridSearchCV(estimator = classifier,\n",
        "                    param_grid = param_grid,\n",
        "                    cv = 5,\n",
        "                     verbose = 10)\n",
        "model.fit(X,Y)\n"
      ],
      "execution_count": 39,
      "outputs": [
        {
          "output_type": "stream",
          "text": [
            "Fitting 5 folds for each of 12 candidates, totalling 60 fits\n",
            "[CV] criterion=gini, max_depth=1, n_estimators=100 ...................\n"
          ],
          "name": "stdout"
        },
        {
          "output_type": "stream",
          "text": [
            "[Parallel(n_jobs=1)]: Using backend SequentialBackend with 1 concurrent workers.\n"
          ],
          "name": "stderr"
        },
        {
          "output_type": "stream",
          "text": [
            "[CV]  criterion=gini, max_depth=1, n_estimators=100, score=0.555, total=   1.1s\n",
            "[CV] criterion=gini, max_depth=1, n_estimators=100 ...................\n"
          ],
          "name": "stdout"
        },
        {
          "output_type": "stream",
          "text": [
            "[Parallel(n_jobs=1)]: Done   1 out of   1 | elapsed:    1.1s remaining:    0.0s\n"
          ],
          "name": "stderr"
        },
        {
          "output_type": "stream",
          "text": [
            "[CV]  criterion=gini, max_depth=1, n_estimators=100, score=0.585, total=   0.3s\n",
            "[CV] criterion=gini, max_depth=1, n_estimators=100 ...................\n"
          ],
          "name": "stdout"
        },
        {
          "output_type": "stream",
          "text": [
            "[Parallel(n_jobs=1)]: Done   2 out of   2 | elapsed:    1.4s remaining:    0.0s\n"
          ],
          "name": "stderr"
        },
        {
          "output_type": "stream",
          "text": [
            "[CV]  criterion=gini, max_depth=1, n_estimators=100, score=0.625, total=   0.3s\n",
            "[CV] criterion=gini, max_depth=1, n_estimators=100 ...................\n"
          ],
          "name": "stdout"
        },
        {
          "output_type": "stream",
          "text": [
            "[Parallel(n_jobs=1)]: Done   3 out of   3 | elapsed:    1.7s remaining:    0.0s\n"
          ],
          "name": "stderr"
        },
        {
          "output_type": "stream",
          "text": [
            "[CV]  criterion=gini, max_depth=1, n_estimators=100, score=0.627, total=   0.3s\n",
            "[CV] criterion=gini, max_depth=1, n_estimators=100 ...................\n"
          ],
          "name": "stdout"
        },
        {
          "output_type": "stream",
          "text": [
            "[Parallel(n_jobs=1)]: Done   4 out of   4 | elapsed:    1.9s remaining:    0.0s\n"
          ],
          "name": "stderr"
        },
        {
          "output_type": "stream",
          "text": [
            "[CV]  criterion=gini, max_depth=1, n_estimators=100, score=0.550, total=   0.3s\n",
            "[CV] criterion=gini, max_depth=1, n_estimators=200 ...................\n"
          ],
          "name": "stdout"
        },
        {
          "output_type": "stream",
          "text": [
            "[Parallel(n_jobs=1)]: Done   5 out of   5 | elapsed:    2.2s remaining:    0.0s\n"
          ],
          "name": "stderr"
        },
        {
          "output_type": "stream",
          "text": [
            "[CV]  criterion=gini, max_depth=1, n_estimators=200, score=0.595, total=   0.4s\n",
            "[CV] criterion=gini, max_depth=1, n_estimators=200 ...................\n"
          ],
          "name": "stdout"
        },
        {
          "output_type": "stream",
          "text": [
            "[Parallel(n_jobs=1)]: Done   6 out of   6 | elapsed:    2.6s remaining:    0.0s\n"
          ],
          "name": "stderr"
        },
        {
          "output_type": "stream",
          "text": [
            "[CV]  criterion=gini, max_depth=1, n_estimators=200, score=0.583, total=   0.4s\n",
            "[CV] criterion=gini, max_depth=1, n_estimators=200 ...................\n"
          ],
          "name": "stdout"
        },
        {
          "output_type": "stream",
          "text": [
            "[Parallel(n_jobs=1)]: Done   7 out of   7 | elapsed:    3.0s remaining:    0.0s\n"
          ],
          "name": "stderr"
        },
        {
          "output_type": "stream",
          "text": [
            "[CV]  criterion=gini, max_depth=1, n_estimators=200, score=0.590, total=   0.4s\n",
            "[CV] criterion=gini, max_depth=1, n_estimators=200 ...................\n"
          ],
          "name": "stdout"
        },
        {
          "output_type": "stream",
          "text": [
            "[Parallel(n_jobs=1)]: Done   8 out of   8 | elapsed:    3.4s remaining:    0.0s\n"
          ],
          "name": "stderr"
        },
        {
          "output_type": "stream",
          "text": [
            "[CV]  criterion=gini, max_depth=1, n_estimators=200, score=0.595, total=   0.4s\n",
            "[CV] criterion=gini, max_depth=1, n_estimators=200 ...................\n"
          ],
          "name": "stdout"
        },
        {
          "output_type": "stream",
          "text": [
            "[Parallel(n_jobs=1)]: Done   9 out of   9 | elapsed:    3.8s remaining:    0.0s\n"
          ],
          "name": "stderr"
        },
        {
          "output_type": "stream",
          "text": [
            "[CV]  criterion=gini, max_depth=1, n_estimators=200, score=0.568, total=   0.4s\n",
            "[CV] criterion=gini, max_depth=3, n_estimators=100 ...................\n",
            "[CV]  criterion=gini, max_depth=3, n_estimators=100, score=0.782, total=   0.3s\n",
            "[CV] criterion=gini, max_depth=3, n_estimators=100 ...................\n",
            "[CV]  criterion=gini, max_depth=3, n_estimators=100, score=0.795, total=   0.3s\n",
            "[CV] criterion=gini, max_depth=3, n_estimators=100 ...................\n",
            "[CV]  criterion=gini, max_depth=3, n_estimators=100, score=0.828, total=   0.3s\n",
            "[CV] criterion=gini, max_depth=3, n_estimators=100 ...................\n",
            "[CV]  criterion=gini, max_depth=3, n_estimators=100, score=0.810, total=   0.3s\n",
            "[CV] criterion=gini, max_depth=3, n_estimators=100 ...................\n",
            "[CV]  criterion=gini, max_depth=3, n_estimators=100, score=0.777, total=   0.3s\n",
            "[CV] criterion=gini, max_depth=3, n_estimators=200 ...................\n",
            "[CV]  criterion=gini, max_depth=3, n_estimators=200, score=0.787, total=   0.4s\n",
            "[CV] criterion=gini, max_depth=3, n_estimators=200 ...................\n",
            "[CV]  criterion=gini, max_depth=3, n_estimators=200, score=0.782, total=   0.4s\n",
            "[CV] criterion=gini, max_depth=3, n_estimators=200 ...................\n",
            "[CV]  criterion=gini, max_depth=3, n_estimators=200, score=0.843, total=   0.4s\n",
            "[CV] criterion=gini, max_depth=3, n_estimators=200 ...................\n",
            "[CV]  criterion=gini, max_depth=3, n_estimators=200, score=0.805, total=   0.4s\n",
            "[CV] criterion=gini, max_depth=3, n_estimators=200 ...................\n",
            "[CV]  criterion=gini, max_depth=3, n_estimators=200, score=0.812, total=   0.4s\n",
            "[CV] criterion=gini, max_depth=5, n_estimators=100 ...................\n",
            "[CV]  criterion=gini, max_depth=5, n_estimators=100, score=0.835, total=   0.3s\n",
            "[CV] criterion=gini, max_depth=5, n_estimators=100 ...................\n",
            "[CV]  criterion=gini, max_depth=5, n_estimators=100, score=0.840, total=   0.3s\n",
            "[CV] criterion=gini, max_depth=5, n_estimators=100 ...................\n",
            "[CV]  criterion=gini, max_depth=5, n_estimators=100, score=0.865, total=   0.3s\n",
            "[CV] criterion=gini, max_depth=5, n_estimators=100 ...................\n",
            "[CV]  criterion=gini, max_depth=5, n_estimators=100, score=0.815, total=   0.3s\n",
            "[CV] criterion=gini, max_depth=5, n_estimators=100 ...................\n",
            "[CV]  criterion=gini, max_depth=5, n_estimators=100, score=0.818, total=   0.3s\n",
            "[CV] criterion=gini, max_depth=5, n_estimators=200 ...................\n",
            "[CV]  criterion=gini, max_depth=5, n_estimators=200, score=0.830, total=   0.4s\n",
            "[CV] criterion=gini, max_depth=5, n_estimators=200 ...................\n",
            "[CV]  criterion=gini, max_depth=5, n_estimators=200, score=0.848, total=   0.4s\n",
            "[CV] criterion=gini, max_depth=5, n_estimators=200 ...................\n",
            "[CV]  criterion=gini, max_depth=5, n_estimators=200, score=0.875, total=   0.4s\n",
            "[CV] criterion=gini, max_depth=5, n_estimators=200 ...................\n",
            "[CV]  criterion=gini, max_depth=5, n_estimators=200, score=0.833, total=   0.4s\n",
            "[CV] criterion=gini, max_depth=5, n_estimators=200 ...................\n",
            "[CV]  criterion=gini, max_depth=5, n_estimators=200, score=0.823, total=   0.4s\n",
            "[CV] criterion=entropy, max_depth=1, n_estimators=100 ................\n",
            "[CV]  criterion=entropy, max_depth=1, n_estimators=100, score=0.580, total=   0.3s\n",
            "[CV] criterion=entropy, max_depth=1, n_estimators=100 ................\n",
            "[CV]  criterion=entropy, max_depth=1, n_estimators=100, score=0.517, total=   0.3s\n",
            "[CV] criterion=entropy, max_depth=1, n_estimators=100 ................\n",
            "[CV]  criterion=entropy, max_depth=1, n_estimators=100, score=0.570, total=   0.3s\n",
            "[CV] criterion=entropy, max_depth=1, n_estimators=100 ................\n",
            "[CV]  criterion=entropy, max_depth=1, n_estimators=100, score=0.542, total=   0.3s\n",
            "[CV] criterion=entropy, max_depth=1, n_estimators=100 ................\n",
            "[CV]  criterion=entropy, max_depth=1, n_estimators=100, score=0.573, total=   0.3s\n",
            "[CV] criterion=entropy, max_depth=1, n_estimators=200 ................\n",
            "[CV]  criterion=entropy, max_depth=1, n_estimators=200, score=0.562, total=   0.4s\n",
            "[CV] criterion=entropy, max_depth=1, n_estimators=200 ................\n",
            "[CV]  criterion=entropy, max_depth=1, n_estimators=200, score=0.570, total=   0.4s\n",
            "[CV] criterion=entropy, max_depth=1, n_estimators=200 ................\n",
            "[CV]  criterion=entropy, max_depth=1, n_estimators=200, score=0.565, total=   0.4s\n",
            "[CV] criterion=entropy, max_depth=1, n_estimators=200 ................\n",
            "[CV]  criterion=entropy, max_depth=1, n_estimators=200, score=0.593, total=   0.4s\n",
            "[CV] criterion=entropy, max_depth=1, n_estimators=200 ................\n",
            "[CV]  criterion=entropy, max_depth=1, n_estimators=200, score=0.525, total=   0.4s\n",
            "[CV] criterion=entropy, max_depth=3, n_estimators=100 ................\n",
            "[CV]  criterion=entropy, max_depth=3, n_estimators=100, score=0.792, total=   0.3s\n",
            "[CV] criterion=entropy, max_depth=3, n_estimators=100 ................\n",
            "[CV]  criterion=entropy, max_depth=3, n_estimators=100, score=0.765, total=   0.3s\n",
            "[CV] criterion=entropy, max_depth=3, n_estimators=100 ................\n",
            "[CV]  criterion=entropy, max_depth=3, n_estimators=100, score=0.810, total=   0.3s\n",
            "[CV] criterion=entropy, max_depth=3, n_estimators=100 ................\n",
            "[CV]  criterion=entropy, max_depth=3, n_estimators=100, score=0.800, total=   0.3s\n",
            "[CV] criterion=entropy, max_depth=3, n_estimators=100 ................\n",
            "[CV]  criterion=entropy, max_depth=3, n_estimators=100, score=0.770, total=   0.3s\n",
            "[CV] criterion=entropy, max_depth=3, n_estimators=200 ................\n",
            "[CV]  criterion=entropy, max_depth=3, n_estimators=200, score=0.782, total=   0.5s\n",
            "[CV] criterion=entropy, max_depth=3, n_estimators=200 ................\n",
            "[CV]  criterion=entropy, max_depth=3, n_estimators=200, score=0.748, total=   0.5s\n",
            "[CV] criterion=entropy, max_depth=3, n_estimators=200 ................\n",
            "[CV]  criterion=entropy, max_depth=3, n_estimators=200, score=0.757, total=   0.5s\n",
            "[CV] criterion=entropy, max_depth=3, n_estimators=200 ................\n",
            "[CV]  criterion=entropy, max_depth=3, n_estimators=200, score=0.805, total=   0.4s\n",
            "[CV] criterion=entropy, max_depth=3, n_estimators=200 ................\n",
            "[CV]  criterion=entropy, max_depth=3, n_estimators=200, score=0.730, total=   0.4s\n",
            "[CV] criterion=entropy, max_depth=5, n_estimators=100 ................\n",
            "[CV]  criterion=entropy, max_depth=5, n_estimators=100, score=0.858, total=   0.3s\n",
            "[CV] criterion=entropy, max_depth=5, n_estimators=100 ................\n",
            "[CV]  criterion=entropy, max_depth=5, n_estimators=100, score=0.835, total=   0.3s\n",
            "[CV] criterion=entropy, max_depth=5, n_estimators=100 ................\n",
            "[CV]  criterion=entropy, max_depth=5, n_estimators=100, score=0.858, total=   0.3s\n",
            "[CV] criterion=entropy, max_depth=5, n_estimators=100 ................\n",
            "[CV]  criterion=entropy, max_depth=5, n_estimators=100, score=0.818, total=   0.3s\n",
            "[CV] criterion=entropy, max_depth=5, n_estimators=100 ................\n",
            "[CV]  criterion=entropy, max_depth=5, n_estimators=100, score=0.812, total=   0.3s\n",
            "[CV] criterion=entropy, max_depth=5, n_estimators=200 ................\n",
            "[CV]  criterion=entropy, max_depth=5, n_estimators=200, score=0.833, total=   0.5s\n",
            "[CV] criterion=entropy, max_depth=5, n_estimators=200 ................\n",
            "[CV]  criterion=entropy, max_depth=5, n_estimators=200, score=0.835, total=   0.5s\n",
            "[CV] criterion=entropy, max_depth=5, n_estimators=200 ................\n",
            "[CV]  criterion=entropy, max_depth=5, n_estimators=200, score=0.843, total=   0.5s\n",
            "[CV] criterion=entropy, max_depth=5, n_estimators=200 ................\n",
            "[CV]  criterion=entropy, max_depth=5, n_estimators=200, score=0.828, total=   0.5s\n",
            "[CV] criterion=entropy, max_depth=5, n_estimators=200 ................\n",
            "[CV]  criterion=entropy, max_depth=5, n_estimators=200, score=0.828, total=   0.5s\n"
          ],
          "name": "stdout"
        },
        {
          "output_type": "stream",
          "text": [
            "[Parallel(n_jobs=1)]: Done  60 out of  60 | elapsed:   22.6s finished\n"
          ],
          "name": "stderr"
        },
        {
          "output_type": "execute_result",
          "data": {
            "text/plain": [
              "GridSearchCV(cv=5, error_score=nan,\n",
              "             estimator=RandomForestClassifier(bootstrap=True, ccp_alpha=0.0,\n",
              "                                              class_weight=None,\n",
              "                                              criterion='gini', max_depth=None,\n",
              "                                              max_features='auto',\n",
              "                                              max_leaf_nodes=None,\n",
              "                                              max_samples=None,\n",
              "                                              min_impurity_decrease=0.0,\n",
              "                                              min_impurity_split=None,\n",
              "                                              min_samples_leaf=1,\n",
              "                                              min_samples_split=2,\n",
              "                                              min_weight_fraction_leaf=0.0,\n",
              "                                              n_estimators=100, n_jobs=-1,\n",
              "                                              oob_score=False,\n",
              "                                              random_state=None, verbose=0,\n",
              "                                              warm_start=False),\n",
              "             iid='deprecated', n_jobs=None,\n",
              "             param_grid={'criterion': ['gini', 'entropy'],\n",
              "                         'max_depth': [1, 3, 5], 'n_estimators': [100, 200]},\n",
              "             pre_dispatch='2*n_jobs', refit=True, return_train_score=False,\n",
              "             scoring=None, verbose=10)"
            ]
          },
          "metadata": {
            "tags": []
          },
          "execution_count": 39
        }
      ]
    },
    {
      "cell_type": "code",
      "metadata": {
        "id": "h4n-SBtocZGg",
        "colab_type": "code",
        "colab": {
          "base_uri": "https://localhost:8080/",
          "height": 72
        },
        "outputId": "6e0d86ce-407f-4915-bfc6-7e4197d322d0"
      },
      "source": [
        "print(model.best_score_)\n",
        "print(model.best_estimator_.get_params())"
      ],
      "execution_count": 41,
      "outputs": [
        {
          "output_type": "stream",
          "text": [
            "0.8415000000000001\n",
            "{'bootstrap': True, 'ccp_alpha': 0.0, 'class_weight': None, 'criterion': 'gini', 'max_depth': 5, 'max_features': 'auto', 'max_leaf_nodes': None, 'max_samples': None, 'min_impurity_decrease': 0.0, 'min_impurity_split': None, 'min_samples_leaf': 1, 'min_samples_split': 2, 'min_weight_fraction_leaf': 0.0, 'n_estimators': 200, 'n_jobs': -1, 'oob_score': False, 'random_state': None, 'verbose': 0, 'warm_start': False}\n"
          ],
          "name": "stdout"
        }
      ]
    },
    {
      "cell_type": "code",
      "metadata": {
        "id": "Qnfbc15RdSal",
        "colab_type": "code",
        "colab": {}
      },
      "source": [
        ""
      ],
      "execution_count": null,
      "outputs": []
    },
    {
      "cell_type": "code",
      "metadata": {
        "id": "Bc034drnmeor",
        "colab_type": "code",
        "colab": {}
      },
      "source": [
        ""
      ],
      "execution_count": null,
      "outputs": []
    },
    {
      "cell_type": "code",
      "metadata": {
        "id": "zpQECIbQmesu",
        "colab_type": "code",
        "colab": {}
      },
      "source": [
        ""
      ],
      "execution_count": null,
      "outputs": []
    },
    {
      "cell_type": "code",
      "metadata": {
        "id": "agvk8t0dmeuw",
        "colab_type": "code",
        "colab": {}
      },
      "source": [
        ""
      ],
      "execution_count": null,
      "outputs": []
    },
    {
      "cell_type": "code",
      "metadata": {
        "id": "46S5C2bamez1",
        "colab_type": "code",
        "colab": {}
      },
      "source": [
        "classifier = ensemble.RandomForestClassifier(n_jobs = -1)\n",
        "param_grid = {\n",
        "    \"n_estimators\" : np.arange(100,1500,100),\n",
        "    \"max_depth\" : np.arange(1,20),\n",
        "    \"criterion\" : [\"gini\" , \"entropy\"]\n",
        "}\n"
      ],
      "execution_count": 80,
      "outputs": []
    },
    {
      "cell_type": "code",
      "metadata": {
        "id": "DkJkojHgme2t",
        "colab_type": "code",
        "colab": {
          "base_uri": "https://localhost:8080/",
          "height": 1000
        },
        "outputId": "0eaa8121-d729-41d0-d5bc-efeac273e707"
      },
      "source": [
        "model = RandomizedSearchCV(estimator = classifier,\n",
        "                        param_distributions = param_grid,\n",
        "                        cv = 5,\n",
        "                        n_iter = 10,\n",
        "                        verbose = 10)\n",
        "model.fit(X,Y)\n"
      ],
      "execution_count": 81,
      "outputs": [
        {
          "output_type": "stream",
          "text": [
            "Fitting 5 folds for each of 10 candidates, totalling 50 fits\n",
            "[CV] n_estimators=1000, max_depth=7, criterion=entropy ...............\n"
          ],
          "name": "stdout"
        },
        {
          "output_type": "stream",
          "text": [
            "[Parallel(n_jobs=1)]: Using backend SequentialBackend with 1 concurrent workers.\n"
          ],
          "name": "stderr"
        },
        {
          "output_type": "stream",
          "text": [
            "[CV]  n_estimators=1000, max_depth=7, criterion=entropy, score=0.863, total=   2.7s\n",
            "[CV] n_estimators=1000, max_depth=7, criterion=entropy ...............\n"
          ],
          "name": "stdout"
        },
        {
          "output_type": "stream",
          "text": [
            "[Parallel(n_jobs=1)]: Done   1 out of   1 | elapsed:    2.7s remaining:    0.0s\n"
          ],
          "name": "stderr"
        },
        {
          "output_type": "stream",
          "text": [
            "[CV]  n_estimators=1000, max_depth=7, criterion=entropy, score=0.873, total=   2.9s\n",
            "[CV] n_estimators=1000, max_depth=7, criterion=entropy ...............\n"
          ],
          "name": "stdout"
        },
        {
          "output_type": "stream",
          "text": [
            "[Parallel(n_jobs=1)]: Done   2 out of   2 | elapsed:    5.6s remaining:    0.0s\n"
          ],
          "name": "stderr"
        },
        {
          "output_type": "stream",
          "text": [
            "[CV]  n_estimators=1000, max_depth=7, criterion=entropy, score=0.892, total=   2.8s\n",
            "[CV] n_estimators=1000, max_depth=7, criterion=entropy ...............\n"
          ],
          "name": "stdout"
        },
        {
          "output_type": "stream",
          "text": [
            "[Parallel(n_jobs=1)]: Done   3 out of   3 | elapsed:    8.4s remaining:    0.0s\n"
          ],
          "name": "stderr"
        },
        {
          "output_type": "stream",
          "text": [
            "[CV]  n_estimators=1000, max_depth=7, criterion=entropy, score=0.863, total=   2.8s\n",
            "[CV] n_estimators=1000, max_depth=7, criterion=entropy ...............\n"
          ],
          "name": "stdout"
        },
        {
          "output_type": "stream",
          "text": [
            "[Parallel(n_jobs=1)]: Done   4 out of   4 | elapsed:   11.3s remaining:    0.0s\n"
          ],
          "name": "stderr"
        },
        {
          "output_type": "stream",
          "text": [
            "[CV]  n_estimators=1000, max_depth=7, criterion=entropy, score=0.855, total=   2.6s\n",
            "[CV] n_estimators=400, max_depth=4, criterion=entropy ................\n"
          ],
          "name": "stdout"
        },
        {
          "output_type": "stream",
          "text": [
            "[Parallel(n_jobs=1)]: Done   5 out of   5 | elapsed:   13.9s remaining:    0.0s\n"
          ],
          "name": "stderr"
        },
        {
          "output_type": "stream",
          "text": [
            "[CV]  n_estimators=400, max_depth=4, criterion=entropy, score=0.823, total=   0.9s\n",
            "[CV] n_estimators=400, max_depth=4, criterion=entropy ................\n"
          ],
          "name": "stdout"
        },
        {
          "output_type": "stream",
          "text": [
            "[Parallel(n_jobs=1)]: Done   6 out of   6 | elapsed:   14.8s remaining:    0.0s\n"
          ],
          "name": "stderr"
        },
        {
          "output_type": "stream",
          "text": [
            "[CV]  n_estimators=400, max_depth=4, criterion=entropy, score=0.805, total=   0.9s\n",
            "[CV] n_estimators=400, max_depth=4, criterion=entropy ................\n"
          ],
          "name": "stdout"
        },
        {
          "output_type": "stream",
          "text": [
            "[Parallel(n_jobs=1)]: Done   7 out of   7 | elapsed:   15.7s remaining:    0.0s\n"
          ],
          "name": "stderr"
        },
        {
          "output_type": "stream",
          "text": [
            "[CV]  n_estimators=400, max_depth=4, criterion=entropy, score=0.823, total=   0.9s\n",
            "[CV] n_estimators=400, max_depth=4, criterion=entropy ................\n"
          ],
          "name": "stdout"
        },
        {
          "output_type": "stream",
          "text": [
            "[Parallel(n_jobs=1)]: Done   8 out of   8 | elapsed:   16.6s remaining:    0.0s\n"
          ],
          "name": "stderr"
        },
        {
          "output_type": "stream",
          "text": [
            "[CV]  n_estimators=400, max_depth=4, criterion=entropy, score=0.835, total=   0.9s\n",
            "[CV] n_estimators=400, max_depth=4, criterion=entropy ................\n"
          ],
          "name": "stdout"
        },
        {
          "output_type": "stream",
          "text": [
            "[Parallel(n_jobs=1)]: Done   9 out of   9 | elapsed:   17.5s remaining:    0.0s\n"
          ],
          "name": "stderr"
        },
        {
          "output_type": "stream",
          "text": [
            "[CV]  n_estimators=400, max_depth=4, criterion=entropy, score=0.815, total=   0.9s\n",
            "[CV] n_estimators=1300, max_depth=15, criterion=gini .................\n",
            "[CV]  n_estimators=1300, max_depth=15, criterion=gini, score=0.875, total=   3.3s\n",
            "[CV] n_estimators=1300, max_depth=15, criterion=gini .................\n",
            "[CV]  n_estimators=1300, max_depth=15, criterion=gini, score=0.887, total=   3.4s\n",
            "[CV] n_estimators=1300, max_depth=15, criterion=gini .................\n",
            "[CV]  n_estimators=1300, max_depth=15, criterion=gini, score=0.897, total=   3.1s\n",
            "[CV] n_estimators=1300, max_depth=15, criterion=gini .................\n",
            "[CV]  n_estimators=1300, max_depth=15, criterion=gini, score=0.863, total=   3.1s\n",
            "[CV] n_estimators=1300, max_depth=15, criterion=gini .................\n",
            "[CV]  n_estimators=1300, max_depth=15, criterion=gini, score=0.863, total=   3.1s\n",
            "[CV] n_estimators=600, max_depth=18, criterion=entropy ...............\n",
            "[CV]  n_estimators=600, max_depth=18, criterion=entropy, score=0.882, total=   2.1s\n",
            "[CV] n_estimators=600, max_depth=18, criterion=entropy ...............\n",
            "[CV]  n_estimators=600, max_depth=18, criterion=entropy, score=0.900, total=   2.0s\n",
            "[CV] n_estimators=600, max_depth=18, criterion=entropy ...............\n",
            "[CV]  n_estimators=600, max_depth=18, criterion=entropy, score=0.917, total=   2.0s\n",
            "[CV] n_estimators=600, max_depth=18, criterion=entropy ...............\n",
            "[CV]  n_estimators=600, max_depth=18, criterion=entropy, score=0.870, total=   2.0s\n",
            "[CV] n_estimators=600, max_depth=18, criterion=entropy ...............\n",
            "[CV]  n_estimators=600, max_depth=18, criterion=entropy, score=0.873, total=   2.0s\n",
            "[CV] n_estimators=900, max_depth=19, criterion=entropy ...............\n",
            "[CV]  n_estimators=900, max_depth=19, criterion=entropy, score=0.882, total=   2.9s\n",
            "[CV] n_estimators=900, max_depth=19, criterion=entropy ...............\n",
            "[CV]  n_estimators=900, max_depth=19, criterion=entropy, score=0.892, total=   2.8s\n",
            "[CV] n_estimators=900, max_depth=19, criterion=entropy ...............\n",
            "[CV]  n_estimators=900, max_depth=19, criterion=entropy, score=0.912, total=   2.8s\n",
            "[CV] n_estimators=900, max_depth=19, criterion=entropy ...............\n",
            "[CV]  n_estimators=900, max_depth=19, criterion=entropy, score=0.880, total=   2.8s\n",
            "[CV] n_estimators=900, max_depth=19, criterion=entropy ...............\n",
            "[CV]  n_estimators=900, max_depth=19, criterion=entropy, score=0.873, total=   2.8s\n",
            "[CV] n_estimators=900, max_depth=15, criterion=entropy ...............\n",
            "[CV]  n_estimators=900, max_depth=15, criterion=entropy, score=0.890, total=   2.8s\n",
            "[CV] n_estimators=900, max_depth=15, criterion=entropy ...............\n",
            "[CV]  n_estimators=900, max_depth=15, criterion=entropy, score=0.900, total=   2.8s\n",
            "[CV] n_estimators=900, max_depth=15, criterion=entropy ...............\n",
            "[CV]  n_estimators=900, max_depth=15, criterion=entropy, score=0.917, total=   2.9s\n",
            "[CV] n_estimators=900, max_depth=15, criterion=entropy ...............\n",
            "[CV]  n_estimators=900, max_depth=15, criterion=entropy, score=0.870, total=   2.8s\n",
            "[CV] n_estimators=900, max_depth=15, criterion=entropy ...............\n",
            "[CV]  n_estimators=900, max_depth=15, criterion=entropy, score=0.868, total=   2.9s\n",
            "[CV] n_estimators=1400, max_depth=15, criterion=gini .................\n",
            "[CV]  n_estimators=1400, max_depth=15, criterion=gini, score=0.885, total=   3.3s\n",
            "[CV] n_estimators=1400, max_depth=15, criterion=gini .................\n",
            "[CV]  n_estimators=1400, max_depth=15, criterion=gini, score=0.887, total=   3.3s\n",
            "[CV] n_estimators=1400, max_depth=15, criterion=gini .................\n",
            "[CV]  n_estimators=1400, max_depth=15, criterion=gini, score=0.897, total=   3.3s\n",
            "[CV] n_estimators=1400, max_depth=15, criterion=gini .................\n",
            "[CV]  n_estimators=1400, max_depth=15, criterion=gini, score=0.863, total=   3.3s\n",
            "[CV] n_estimators=1400, max_depth=15, criterion=gini .................\n",
            "[CV]  n_estimators=1400, max_depth=15, criterion=gini, score=0.873, total=   3.3s\n",
            "[CV] n_estimators=1300, max_depth=13, criterion=gini .................\n",
            "[CV]  n_estimators=1300, max_depth=13, criterion=gini, score=0.877, total=   3.1s\n",
            "[CV] n_estimators=1300, max_depth=13, criterion=gini .................\n",
            "[CV]  n_estimators=1300, max_depth=13, criterion=gini, score=0.890, total=   3.1s\n",
            "[CV] n_estimators=1300, max_depth=13, criterion=gini .................\n",
            "[CV]  n_estimators=1300, max_depth=13, criterion=gini, score=0.892, total=   3.0s\n",
            "[CV] n_estimators=1300, max_depth=13, criterion=gini .................\n",
            "[CV]  n_estimators=1300, max_depth=13, criterion=gini, score=0.873, total=   3.1s\n",
            "[CV] n_estimators=1300, max_depth=13, criterion=gini .................\n",
            "[CV]  n_estimators=1300, max_depth=13, criterion=gini, score=0.865, total=   3.1s\n",
            "[CV] n_estimators=900, max_depth=9, criterion=gini ...................\n",
            "[CV]  n_estimators=900, max_depth=9, criterion=gini, score=0.877, total=   2.0s\n",
            "[CV] n_estimators=900, max_depth=9, criterion=gini ...................\n",
            "[CV]  n_estimators=900, max_depth=9, criterion=gini, score=0.880, total=   2.0s\n",
            "[CV] n_estimators=900, max_depth=9, criterion=gini ...................\n",
            "[CV]  n_estimators=900, max_depth=9, criterion=gini, score=0.892, total=   2.0s\n",
            "[CV] n_estimators=900, max_depth=9, criterion=gini ...................\n",
            "[CV]  n_estimators=900, max_depth=9, criterion=gini, score=0.870, total=   2.0s\n",
            "[CV] n_estimators=900, max_depth=9, criterion=gini ...................\n",
            "[CV]  n_estimators=900, max_depth=9, criterion=gini, score=0.860, total=   2.0s\n",
            "[CV] n_estimators=300, max_depth=6, criterion=gini ...................\n",
            "[CV]  n_estimators=300, max_depth=6, criterion=gini, score=0.848, total=   0.8s\n",
            "[CV] n_estimators=300, max_depth=6, criterion=gini ...................\n",
            "[CV]  n_estimators=300, max_depth=6, criterion=gini, score=0.845, total=   0.8s\n",
            "[CV] n_estimators=300, max_depth=6, criterion=gini ...................\n",
            "[CV]  n_estimators=300, max_depth=6, criterion=gini, score=0.865, total=   0.8s\n",
            "[CV] n_estimators=300, max_depth=6, criterion=gini ...................\n",
            "[CV]  n_estimators=300, max_depth=6, criterion=gini, score=0.850, total=   0.8s\n",
            "[CV] n_estimators=300, max_depth=6, criterion=gini ...................\n",
            "[CV]  n_estimators=300, max_depth=6, criterion=gini, score=0.833, total=   0.8s\n"
          ],
          "name": "stdout"
        },
        {
          "output_type": "stream",
          "text": [
            "[Parallel(n_jobs=1)]: Done  50 out of  50 | elapsed:  2.0min finished\n"
          ],
          "name": "stderr"
        },
        {
          "output_type": "execute_result",
          "data": {
            "text/plain": [
              "RandomizedSearchCV(cv=5, error_score=nan,\n",
              "                   estimator=RandomForestClassifier(bootstrap=True,\n",
              "                                                    ccp_alpha=0.0,\n",
              "                                                    class_weight=None,\n",
              "                                                    criterion='gini',\n",
              "                                                    max_depth=None,\n",
              "                                                    max_features='auto',\n",
              "                                                    max_leaf_nodes=None,\n",
              "                                                    max_samples=None,\n",
              "                                                    min_impurity_decrease=0.0,\n",
              "                                                    min_impurity_split=None,\n",
              "                                                    min_samples_leaf=1,\n",
              "                                                    min_samples_split=2,\n",
              "                                                    min_weight_fraction_leaf=0.0,\n",
              "                                                    n_estimators=100, n_jobs...\n",
              "                                                    warm_start=False),\n",
              "                   iid='deprecated', n_iter=10, n_jobs=None,\n",
              "                   param_distributions={'criterion': ['gini', 'entropy'],\n",
              "                                        'max_depth': array([ 1,  2,  3,  4,  5,  6,  7,  8,  9, 10, 11, 12, 13, 14, 15, 16, 17,\n",
              "       18, 19]),\n",
              "                                        'n_estimators': array([ 100,  200,  300,  400,  500,  600,  700,  800,  900, 1000, 1100,\n",
              "       1200, 1300, 1400])},\n",
              "                   pre_dispatch='2*n_jobs', random_state=None, refit=True,\n",
              "                   return_train_score=False, scoring=None, verbose=10)"
            ]
          },
          "metadata": {
            "tags": []
          },
          "execution_count": 81
        }
      ]
    },
    {
      "cell_type": "code",
      "metadata": {
        "id": "nGNJWeq7me5c",
        "colab_type": "code",
        "colab": {
          "base_uri": "https://localhost:8080/",
          "height": 89
        },
        "outputId": "8af68b87-0589-4065-a58f-705c64c19ce5"
      },
      "source": [
        "print(model.best_score_)\n",
        "print(model.best_estimator_.get_params())\n",
        "model.score(X,Y)"
      ],
      "execution_count": 82,
      "outputs": [
        {
          "output_type": "stream",
          "text": [
            "0.889\n",
            "{'bootstrap': True, 'ccp_alpha': 0.0, 'class_weight': None, 'criterion': 'entropy', 'max_depth': 15, 'max_features': 'auto', 'max_leaf_nodes': None, 'max_samples': None, 'min_impurity_decrease': 0.0, 'min_impurity_split': None, 'min_samples_leaf': 1, 'min_samples_split': 2, 'min_weight_fraction_leaf': 0.0, 'n_estimators': 900, 'n_jobs': -1, 'oob_score': False, 'random_state': None, 'verbose': 0, 'warm_start': False}\n"
          ],
          "name": "stdout"
        },
        {
          "output_type": "execute_result",
          "data": {
            "text/plain": [
              "1.0"
            ]
          },
          "metadata": {
            "tags": []
          },
          "execution_count": 82
        }
      ]
    },
    {
      "cell_type": "code",
      "metadata": {
        "id": "kVpvFzWe1NfW",
        "colab_type": "code",
        "colab": {
          "base_uri": "https://localhost:8080/",
          "height": 69
        },
        "outputId": "1e403336-e63b-4dc9-de2a-011295d2b937"
      },
      "source": [
        "print(X.shape , Y.shape)\n",
        "lt = int(len(X)*0.8)\n",
        "trainX = X[:lt]\n",
        "trainY = Y[:lt]\n",
        "testX = X[lt:]\n",
        "testY = Y[lt:]\n",
        "\n",
        "print(trainX.shape,testX.shape)\n",
        "classifier = ensemble.RandomForestClassifier(criterion= \"entropy\" , max_depth=15 , max_features= 'auto' , n_estimators=900)\n",
        "classifier.fit(trainX,trainY)\n",
        "classifier.score(testX,testY)\n"
      ],
      "execution_count": 83,
      "outputs": [
        {
          "output_type": "stream",
          "text": [
            "(2000, 20) (2000,)\n",
            "(1600, 20) (400, 20)\n"
          ],
          "name": "stdout"
        },
        {
          "output_type": "execute_result",
          "data": {
            "text/plain": [
              "0.8725"
            ]
          },
          "metadata": {
            "tags": []
          },
          "execution_count": 83
        }
      ]
    },
    {
      "cell_type": "code",
      "metadata": {
        "id": "djdwPQOL2F6W",
        "colab_type": "code",
        "colab": {}
      },
      "source": [
        "scopt, hyperopt, optuna"
      ],
      "execution_count": null,
      "outputs": []
    }
  ]
}